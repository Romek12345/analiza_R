{
  "nbformat": 4,
  "nbformat_minor": 0,
  "metadata": {
    "colab": {
      "provenance": [],
      "authorship_tag": "ABX9TyOrd24cwkEbxBiS3mqNVT9T",
      "include_colab_link": true
    },
    "kernelspec": {
      "name": "ir",
      "display_name": "R"
    },
    "language_info": {
      "name": "R"
    }
  },
  "cells": [
    {
      "cell_type": "markdown",
      "metadata": {
        "id": "view-in-github",
        "colab_type": "text"
      },
      "source": [
        "<a href=\"https://colab.research.google.com/github/Romek12345/prosta_analiza_R/blob/main/analiza3.ipynb\" target=\"_parent\"><img src=\"https://colab.research.google.com/assets/colab-badge.svg\" alt=\"Open In Colab\"/></a>"
      ]
    },
    {
      "cell_type": "code",
      "execution_count": null,
      "metadata": {
        "colab": {
          "base_uri": "https://localhost:8080/"
        },
        "id": "LrnSn9spi463",
        "outputId": "29b80c7e-bfc9-4bec-f91f-17f15c226f57"
      },
      "outputs": [
        {
          "output_type": "stream",
          "name": "stderr",
          "text": [
            "Installing package into ‘/usr/local/lib/R/site-library’\n",
            "(as ‘lib’ is unspecified)\n",
            "\n",
            "Installing package into ‘/usr/local/lib/R/site-library’\n",
            "(as ‘lib’ is unspecified)\n",
            "\n",
            "Installing package into ‘/usr/local/lib/R/site-library’\n",
            "(as ‘lib’ is unspecified)\n",
            "\n",
            "── \u001b[1mAttaching core tidyverse packages\u001b[22m ──────────────────────── tidyverse 2.0.0 ──\n",
            "\u001b[32m✔\u001b[39m \u001b[34mdplyr    \u001b[39m 1.1.4     \u001b[32m✔\u001b[39m \u001b[34mreadr    \u001b[39m 2.1.5\n",
            "\u001b[32m✔\u001b[39m \u001b[34mforcats  \u001b[39m 1.0.0     \u001b[32m✔\u001b[39m \u001b[34mstringr  \u001b[39m 1.5.1\n",
            "\u001b[32m✔\u001b[39m \u001b[34mggplot2  \u001b[39m 3.5.1     \u001b[32m✔\u001b[39m \u001b[34mtibble   \u001b[39m 3.2.1\n",
            "\u001b[32m✔\u001b[39m \u001b[34mlubridate\u001b[39m 1.9.3     \u001b[32m✔\u001b[39m \u001b[34mtidyr    \u001b[39m 1.3.1\n",
            "\u001b[32m✔\u001b[39m \u001b[34mpurrr    \u001b[39m 1.0.2     \n",
            "── \u001b[1mConflicts\u001b[22m ────────────────────────────────────────── tidyverse_conflicts() ──\n",
            "\u001b[31m✖\u001b[39m \u001b[34mdplyr\u001b[39m::\u001b[32mfilter()\u001b[39m masks \u001b[34mstats\u001b[39m::filter()\n",
            "\u001b[31m✖\u001b[39m \u001b[34mdplyr\u001b[39m::\u001b[32mlag()\u001b[39m    masks \u001b[34mstats\u001b[39m::lag()\n",
            "\u001b[36mℹ\u001b[39m Use the conflicted package (\u001b[3m\u001b[34m<http://conflicted.r-lib.org/>\u001b[39m\u001b[23m) to force all conflicts to become errors\n"
          ]
        }
      ],
      "source": [
        "install.packages(\"tidyverse\")\n",
        "install.packages(\"knitr\")\n",
        "install.packages(\"rmarkdown\")\n",
        "library(tidyverse)\n",
        "library(knitr)\n",
        "library(rmarkdown)"
      ]
    },
    {
      "cell_type": "code",
      "source": [
        "# Wczytaj dane z plików CSV\n",
        "dane <- read.csv(\"/content/dane1.csv\")\n",
        "dict_icd10 <- read.csv(\"/content/dict_icd101csv.csv\")\n",
        "\n",
        "# Wyświetl pierwsze kilka wierszy danych, aby upewnić się, że zostały załadowane prawidłowo\n",
        "head(dane)\n",
        "head(dict_icd10)\n"
      ],
      "metadata": {
        "colab": {
          "base_uri": "https://localhost:8080/",
          "height": 555
        },
        "id": "ufi6R0cMi6V6",
        "outputId": "f90685fd-4a3b-4c92-d057-eb0b199bf55b"
      },
      "execution_count": null,
      "outputs": [
        {
          "output_type": "display_data",
          "data": {
            "text/html": [
              "<table class=\"dataframe\">\n",
              "<caption>A data.frame: 6 × 1</caption>\n",
              "<thead>\n",
              "\t<tr><th></th><th scope=col>ID_PACJ.ICD.10</th></tr>\n",
              "\t<tr><th></th><th scope=col>&lt;chr&gt;</th></tr>\n",
              "</thead>\n",
              "<tbody>\n",
              "\t<tr><th scope=row>1</th><td>2000299;1</td></tr>\n",
              "\t<tr><th scope=row>2</th><td>3029983;3</td></tr>\n",
              "\t<tr><th scope=row>3</th><td>4059667;2</td></tr>\n",
              "\t<tr><th scope=row>4</th><td>5089351;4</td></tr>\n",
              "\t<tr><th scope=row>5</th><td>6119035;3</td></tr>\n",
              "\t<tr><th scope=row>6</th><td>7148719;2</td></tr>\n",
              "</tbody>\n",
              "</table>\n"
            ],
            "text/markdown": "\nA data.frame: 6 × 1\n\n| <!--/--> | ID_PACJ.ICD.10 &lt;chr&gt; |\n|---|---|\n| 1 | 2000299;1 |\n| 2 | 3029983;3 |\n| 3 | 4059667;2 |\n| 4 | 5089351;4 |\n| 5 | 6119035;3 |\n| 6 | 7148719;2 |\n\n",
            "text/latex": "A data.frame: 6 × 1\n\\begin{tabular}{r|l}\n  & ID\\_PACJ.ICD.10\\\\\n  & <chr>\\\\\n\\hline\n\t1 & 2000299;1\\\\\n\t2 & 3029983;3\\\\\n\t3 & 4059667;2\\\\\n\t4 & 5089351;4\\\\\n\t5 & 6119035;3\\\\\n\t6 & 7148719;2\\\\\n\\end{tabular}\n",
            "text/plain": [
              "  ID_PACJ.ICD.10\n",
              "1 2000299;1     \n",
              "2 3029983;3     \n",
              "3 4059667;2     \n",
              "4 5089351;4     \n",
              "5 6119035;3     \n",
              "6 7148719;2     "
            ]
          },
          "metadata": {}
        },
        {
          "output_type": "display_data",
          "data": {
            "text/html": [
              "<table class=\"dataframe\">\n",
              "<caption>A data.frame: 6 × 1</caption>\n",
              "<thead>\n",
              "\t<tr><th></th><th scope=col>ICD.10.NAZWA.</th></tr>\n",
              "\t<tr><th></th><th scope=col>&lt;chr&gt;</th></tr>\n",
              "</thead>\n",
              "<tbody>\n",
              "\t<tr><th scope=row>1</th><td>1;choroba x;</td></tr>\n",
              "\t<tr><th scope=row>2</th><td>2;rak;      </td></tr>\n",
              "\t<tr><th scope=row>3</th><td>3;katar;    </td></tr>\n",
              "\t<tr><th scope=row>4</th><td>4;kamien;   </td></tr>\n",
              "\t<tr><th scope=row>5</th><td>5;chorb;    </td></tr>\n",
              "\t<tr><th scope=row>6</th><td>6;kaszel ;  </td></tr>\n",
              "</tbody>\n",
              "</table>\n"
            ],
            "text/markdown": "\nA data.frame: 6 × 1\n\n| <!--/--> | ICD.10.NAZWA. &lt;chr&gt; |\n|---|---|\n| 1 | 1;choroba x; |\n| 2 | 2;rak;       |\n| 3 | 3;katar;     |\n| 4 | 4;kamien;    |\n| 5 | 5;chorb;     |\n| 6 | 6;kaszel ;   |\n\n",
            "text/latex": "A data.frame: 6 × 1\n\\begin{tabular}{r|l}\n  & ICD.10.NAZWA.\\\\\n  & <chr>\\\\\n\\hline\n\t1 & 1;choroba x;\\\\\n\t2 & 2;rak;      \\\\\n\t3 & 3;katar;    \\\\\n\t4 & 4;kamien;   \\\\\n\t5 & 5;chorb;    \\\\\n\t6 & 6;kaszel ;  \\\\\n\\end{tabular}\n",
            "text/plain": [
              "  ICD.10.NAZWA.\n",
              "1 1;choroba x; \n",
              "2 2;rak;       \n",
              "3 3;katar;     \n",
              "4 4;kamien;    \n",
              "5 5;chorb;     \n",
              "6 6;kaszel ;   "
            ]
          },
          "metadata": {}
        }
      ]
    },
    {
      "cell_type": "code",
      "source": [
        "dict_icd10 <- read.csv(\"/content/dict_icd101csv.csv\", sep = \";\")\n",
        "dane <- read.csv(\"/content/dane1.csv\", sep = \";\")"
      ],
      "metadata": {
        "id": "TU6nCwJTi6So"
      },
      "execution_count": null,
      "outputs": []
    },
    {
      "cell_type": "code",
      "source": [
        "head(dane)\n",
        "head(dict_icd10)"
      ],
      "metadata": {
        "colab": {
          "base_uri": "https://localhost:8080/",
          "height": 555
        },
        "id": "_pBhM4CNi6PK",
        "outputId": "ce1f234b-ba83-41f6-90d0-77fdcafb2f20"
      },
      "execution_count": null,
      "outputs": [
        {
          "output_type": "display_data",
          "data": {
            "text/html": [
              "<table class=\"dataframe\">\n",
              "<caption>A data.frame: 6 × 2</caption>\n",
              "<thead>\n",
              "\t<tr><th></th><th scope=col>ID_PACJ</th><th scope=col>ICD.10</th></tr>\n",
              "\t<tr><th></th><th scope=col>&lt;int&gt;</th><th scope=col>&lt;int&gt;</th></tr>\n",
              "</thead>\n",
              "<tbody>\n",
              "\t<tr><th scope=row>1</th><td>2000299</td><td>1</td></tr>\n",
              "\t<tr><th scope=row>2</th><td>3029983</td><td>3</td></tr>\n",
              "\t<tr><th scope=row>3</th><td>4059667</td><td>2</td></tr>\n",
              "\t<tr><th scope=row>4</th><td>5089351</td><td>4</td></tr>\n",
              "\t<tr><th scope=row>5</th><td>6119035</td><td>3</td></tr>\n",
              "\t<tr><th scope=row>6</th><td>7148719</td><td>2</td></tr>\n",
              "</tbody>\n",
              "</table>\n"
            ],
            "text/markdown": "\nA data.frame: 6 × 2\n\n| <!--/--> | ID_PACJ &lt;int&gt; | ICD.10 &lt;int&gt; |\n|---|---|---|\n| 1 | 2000299 | 1 |\n| 2 | 3029983 | 3 |\n| 3 | 4059667 | 2 |\n| 4 | 5089351 | 4 |\n| 5 | 6119035 | 3 |\n| 6 | 7148719 | 2 |\n\n",
            "text/latex": "A data.frame: 6 × 2\n\\begin{tabular}{r|ll}\n  & ID\\_PACJ & ICD.10\\\\\n  & <int> & <int>\\\\\n\\hline\n\t1 & 2000299 & 1\\\\\n\t2 & 3029983 & 3\\\\\n\t3 & 4059667 & 2\\\\\n\t4 & 5089351 & 4\\\\\n\t5 & 6119035 & 3\\\\\n\t6 & 7148719 & 2\\\\\n\\end{tabular}\n",
            "text/plain": [
              "  ID_PACJ ICD.10\n",
              "1 2000299 1     \n",
              "2 3029983 3     \n",
              "3 4059667 2     \n",
              "4 5089351 4     \n",
              "5 6119035 3     \n",
              "6 7148719 2     "
            ]
          },
          "metadata": {}
        },
        {
          "output_type": "display_data",
          "data": {
            "text/html": [
              "<table class=\"dataframe\">\n",
              "<caption>A data.frame: 6 × 3</caption>\n",
              "<thead>\n",
              "\t<tr><th></th><th scope=col>ICD.10</th><th scope=col>NAZWA</th><th scope=col>X</th></tr>\n",
              "\t<tr><th></th><th scope=col>&lt;int&gt;</th><th scope=col>&lt;chr&gt;</th><th scope=col>&lt;lgl&gt;</th></tr>\n",
              "</thead>\n",
              "<tbody>\n",
              "\t<tr><th scope=row>1</th><td>1</td><td>choroba x</td><td>NA</td></tr>\n",
              "\t<tr><th scope=row>2</th><td>2</td><td>rak      </td><td>NA</td></tr>\n",
              "\t<tr><th scope=row>3</th><td>3</td><td>katar    </td><td>NA</td></tr>\n",
              "\t<tr><th scope=row>4</th><td>4</td><td>kamien   </td><td>NA</td></tr>\n",
              "\t<tr><th scope=row>5</th><td>5</td><td>chorb    </td><td>NA</td></tr>\n",
              "\t<tr><th scope=row>6</th><td>6</td><td>kaszel   </td><td>NA</td></tr>\n",
              "</tbody>\n",
              "</table>\n"
            ],
            "text/markdown": "\nA data.frame: 6 × 3\n\n| <!--/--> | ICD.10 &lt;int&gt; | NAZWA &lt;chr&gt; | X &lt;lgl&gt; |\n|---|---|---|---|\n| 1 | 1 | choroba x | NA |\n| 2 | 2 | rak       | NA |\n| 3 | 3 | katar     | NA |\n| 4 | 4 | kamien    | NA |\n| 5 | 5 | chorb     | NA |\n| 6 | 6 | kaszel    | NA |\n\n",
            "text/latex": "A data.frame: 6 × 3\n\\begin{tabular}{r|lll}\n  & ICD.10 & NAZWA & X\\\\\n  & <int> & <chr> & <lgl>\\\\\n\\hline\n\t1 & 1 & choroba x & NA\\\\\n\t2 & 2 & rak       & NA\\\\\n\t3 & 3 & katar     & NA\\\\\n\t4 & 4 & kamien    & NA\\\\\n\t5 & 5 & chorb     & NA\\\\\n\t6 & 6 & kaszel    & NA\\\\\n\\end{tabular}\n",
            "text/plain": [
              "  ICD.10 NAZWA     X \n",
              "1 1      choroba x NA\n",
              "2 2      rak       NA\n",
              "3 3      katar     NA\n",
              "4 4      kamien    NA\n",
              "5 5      chorb     NA\n",
              "6 6      kaszel    NA"
            ]
          },
          "metadata": {}
        }
      ]
    },
    {
      "cell_type": "code",
      "source": [
        "dane_merged <- merge(dane, dict_icd10, by.x = \"ICD.10\", by.y = \"ICD.10\")\n",
        "head(dane_merged)"
      ],
      "metadata": {
        "colab": {
          "base_uri": "https://localhost:8080/",
          "height": 286
        },
        "id": "cNWsmWe4i6E4",
        "outputId": "5b389520-2999-46a6-f6b7-9930d488f674"
      },
      "execution_count": null,
      "outputs": [
        {
          "output_type": "display_data",
          "data": {
            "text/html": [
              "<table class=\"dataframe\">\n",
              "<caption>A data.frame: 6 × 4</caption>\n",
              "<thead>\n",
              "\t<tr><th></th><th scope=col>ICD.10</th><th scope=col>ID_PACJ</th><th scope=col>NAZWA</th><th scope=col>X</th></tr>\n",
              "\t<tr><th></th><th scope=col>&lt;int&gt;</th><th scope=col>&lt;int&gt;</th><th scope=col>&lt;chr&gt;</th><th scope=col>&lt;lgl&gt;</th></tr>\n",
              "</thead>\n",
              "<tbody>\n",
              "\t<tr><th scope=row>1</th><td>1</td><td>2000299</td><td>choroba x</td><td>NA</td></tr>\n",
              "\t<tr><th scope=row>2</th><td>2</td><td>4059667</td><td>rak      </td><td>NA</td></tr>\n",
              "\t<tr><th scope=row>3</th><td>2</td><td>7148719</td><td>rak      </td><td>NA</td></tr>\n",
              "\t<tr><th scope=row>4</th><td>2</td><td>1435650</td><td>rak      </td><td>NA</td></tr>\n",
              "\t<tr><th scope=row>5</th><td>3</td><td>3029983</td><td>katar    </td><td>NA</td></tr>\n",
              "\t<tr><th scope=row>6</th><td>3</td><td>1332682</td><td>katar    </td><td>NA</td></tr>\n",
              "</tbody>\n",
              "</table>\n"
            ],
            "text/markdown": "\nA data.frame: 6 × 4\n\n| <!--/--> | ICD.10 &lt;int&gt; | ID_PACJ &lt;int&gt; | NAZWA &lt;chr&gt; | X &lt;lgl&gt; |\n|---|---|---|---|---|\n| 1 | 1 | 2000299 | choroba x | NA |\n| 2 | 2 | 4059667 | rak       | NA |\n| 3 | 2 | 7148719 | rak       | NA |\n| 4 | 2 | 1435650 | rak       | NA |\n| 5 | 3 | 3029983 | katar     | NA |\n| 6 | 3 | 1332682 | katar     | NA |\n\n",
            "text/latex": "A data.frame: 6 × 4\n\\begin{tabular}{r|llll}\n  & ICD.10 & ID\\_PACJ & NAZWA & X\\\\\n  & <int> & <int> & <chr> & <lgl>\\\\\n\\hline\n\t1 & 1 & 2000299 & choroba x & NA\\\\\n\t2 & 2 & 4059667 & rak       & NA\\\\\n\t3 & 2 & 7148719 & rak       & NA\\\\\n\t4 & 2 & 1435650 & rak       & NA\\\\\n\t5 & 3 & 3029983 & katar     & NA\\\\\n\t6 & 3 & 1332682 & katar     & NA\\\\\n\\end{tabular}\n",
            "text/plain": [
              "  ICD.10 ID_PACJ NAZWA     X \n",
              "1 1      2000299 choroba x NA\n",
              "2 2      4059667 rak       NA\n",
              "3 2      7148719 rak       NA\n",
              "4 2      1435650 rak       NA\n",
              "5 3      3029983 katar     NA\n",
              "6 3      1332682 katar     NA"
            ]
          },
          "metadata": {}
        }
      ]
    },
    {
      "cell_type": "code",
      "source": [
        "# Przenieś dane_merged do globalnego środowiska\n",
        "assign(\"dane_merged\", dane_merged, envir = .GlobalEnv)\n",
        "\n",
        "head(dane_merged)"
      ],
      "metadata": {
        "colab": {
          "base_uri": "https://localhost:8080/",
          "height": 286
        },
        "id": "noKOX4-Ai6BY",
        "outputId": "41b96c4e-fba9-46d4-f1b5-4102e31fc091"
      },
      "execution_count": null,
      "outputs": [
        {
          "output_type": "display_data",
          "data": {
            "text/html": [
              "<table class=\"dataframe\">\n",
              "<caption>A data.frame: 6 × 4</caption>\n",
              "<thead>\n",
              "\t<tr><th></th><th scope=col>ICD.10</th><th scope=col>ID_PACJ</th><th scope=col>NAZWA</th><th scope=col>X</th></tr>\n",
              "\t<tr><th></th><th scope=col>&lt;int&gt;</th><th scope=col>&lt;int&gt;</th><th scope=col>&lt;chr&gt;</th><th scope=col>&lt;lgl&gt;</th></tr>\n",
              "</thead>\n",
              "<tbody>\n",
              "\t<tr><th scope=row>1</th><td>1</td><td>2000299</td><td>choroba x</td><td>NA</td></tr>\n",
              "\t<tr><th scope=row>2</th><td>2</td><td>4059667</td><td>rak      </td><td>NA</td></tr>\n",
              "\t<tr><th scope=row>3</th><td>2</td><td>7148719</td><td>rak      </td><td>NA</td></tr>\n",
              "\t<tr><th scope=row>4</th><td>2</td><td>1435650</td><td>rak      </td><td>NA</td></tr>\n",
              "\t<tr><th scope=row>5</th><td>3</td><td>3029983</td><td>katar    </td><td>NA</td></tr>\n",
              "\t<tr><th scope=row>6</th><td>3</td><td>1332682</td><td>katar    </td><td>NA</td></tr>\n",
              "</tbody>\n",
              "</table>\n"
            ],
            "text/markdown": "\nA data.frame: 6 × 4\n\n| <!--/--> | ICD.10 &lt;int&gt; | ID_PACJ &lt;int&gt; | NAZWA &lt;chr&gt; | X &lt;lgl&gt; |\n|---|---|---|---|---|\n| 1 | 1 | 2000299 | choroba x | NA |\n| 2 | 2 | 4059667 | rak       | NA |\n| 3 | 2 | 7148719 | rak       | NA |\n| 4 | 2 | 1435650 | rak       | NA |\n| 5 | 3 | 3029983 | katar     | NA |\n| 6 | 3 | 1332682 | katar     | NA |\n\n",
            "text/latex": "A data.frame: 6 × 4\n\\begin{tabular}{r|llll}\n  & ICD.10 & ID\\_PACJ & NAZWA & X\\\\\n  & <int> & <int> & <chr> & <lgl>\\\\\n\\hline\n\t1 & 1 & 2000299 & choroba x & NA\\\\\n\t2 & 2 & 4059667 & rak       & NA\\\\\n\t3 & 2 & 7148719 & rak       & NA\\\\\n\t4 & 2 & 1435650 & rak       & NA\\\\\n\t5 & 3 & 3029983 & katar     & NA\\\\\n\t6 & 3 & 1332682 & katar     & NA\\\\\n\\end{tabular}\n",
            "text/plain": [
              "  ICD.10 ID_PACJ NAZWA     X \n",
              "1 1      2000299 choroba x NA\n",
              "2 2      4059667 rak       NA\n",
              "3 2      7148719 rak       NA\n",
              "4 2      1435650 rak       NA\n",
              "5 3      3029983 katar     NA\n",
              "6 3      1332682 katar     NA"
            ]
          },
          "metadata": {}
        }
      ]
    },
    {
      "cell_type": "code",
      "source": [
        "# Usunięcie kolumny 'X' z dict_icd10\n",
        "dane_merged <- dane_merged[, !names(dane_merged) %in% \"X\"]\n"
      ],
      "metadata": {
        "id": "ROuIMpMikyTI"
      },
      "execution_count": null,
      "outputs": []
    },
    {
      "cell_type": "code",
      "source": [
        "head(dane_merged)"
      ],
      "metadata": {
        "colab": {
          "base_uri": "https://localhost:8080/",
          "height": 286
        },
        "id": "yB2LnJd7k8iB",
        "outputId": "a87c092e-3edd-4611-ab08-773695eaef0a"
      },
      "execution_count": null,
      "outputs": [
        {
          "output_type": "display_data",
          "data": {
            "text/html": [
              "<table class=\"dataframe\">\n",
              "<caption>A data.frame: 6 × 3</caption>\n",
              "<thead>\n",
              "\t<tr><th></th><th scope=col>ICD.10</th><th scope=col>ID_PACJ</th><th scope=col>NAZWA</th></tr>\n",
              "\t<tr><th></th><th scope=col>&lt;int&gt;</th><th scope=col>&lt;int&gt;</th><th scope=col>&lt;chr&gt;</th></tr>\n",
              "</thead>\n",
              "<tbody>\n",
              "\t<tr><th scope=row>1</th><td>1</td><td>2000299</td><td>choroba x</td></tr>\n",
              "\t<tr><th scope=row>2</th><td>2</td><td>4059667</td><td>rak      </td></tr>\n",
              "\t<tr><th scope=row>3</th><td>2</td><td>7148719</td><td>rak      </td></tr>\n",
              "\t<tr><th scope=row>4</th><td>2</td><td>1435650</td><td>rak      </td></tr>\n",
              "\t<tr><th scope=row>5</th><td>3</td><td>3029983</td><td>katar    </td></tr>\n",
              "\t<tr><th scope=row>6</th><td>3</td><td>1332682</td><td>katar    </td></tr>\n",
              "</tbody>\n",
              "</table>\n"
            ],
            "text/markdown": "\nA data.frame: 6 × 3\n\n| <!--/--> | ICD.10 &lt;int&gt; | ID_PACJ &lt;int&gt; | NAZWA &lt;chr&gt; |\n|---|---|---|---|\n| 1 | 1 | 2000299 | choroba x |\n| 2 | 2 | 4059667 | rak       |\n| 3 | 2 | 7148719 | rak       |\n| 4 | 2 | 1435650 | rak       |\n| 5 | 3 | 3029983 | katar     |\n| 6 | 3 | 1332682 | katar     |\n\n",
            "text/latex": "A data.frame: 6 × 3\n\\begin{tabular}{r|lll}\n  & ICD.10 & ID\\_PACJ & NAZWA\\\\\n  & <int> & <int> & <chr>\\\\\n\\hline\n\t1 & 1 & 2000299 & choroba x\\\\\n\t2 & 2 & 4059667 & rak      \\\\\n\t3 & 2 & 7148719 & rak      \\\\\n\t4 & 2 & 1435650 & rak      \\\\\n\t5 & 3 & 3029983 & katar    \\\\\n\t6 & 3 & 1332682 & katar    \\\\\n\\end{tabular}\n",
            "text/plain": [
              "  ICD.10 ID_PACJ NAZWA    \n",
              "1 1      2000299 choroba x\n",
              "2 2      4059667 rak      \n",
              "3 2      7148719 rak      \n",
              "4 2      1435650 rak      \n",
              "5 3      3029983 katar    \n",
              "6 3      1332682 katar    "
            ]
          },
          "metadata": {}
        }
      ]
    },
    {
      "cell_type": "code",
      "source": [
        "colnames(dane)\n",
        "colnames(dict_icd10_cleaned)\n",
        "head(dict_icd10_cleaned)"
      ],
      "metadata": {
        "id": "c-ctj1cyi5-B"
      },
      "execution_count": null,
      "outputs": []
    },
    {
      "cell_type": "code",
      "source": [
        "unique(dane$ICD.10)\n",
        "unique(dict_icd10_cleaned)"
      ],
      "metadata": {
        "id": "Shc8KIIzi56q"
      },
      "execution_count": null,
      "outputs": []
    },
    {
      "cell_type": "code",
      "source": [
        "str(dane$ICD.10)\n",
        "str(dict_icd10_cleaned$ICD.10)"
      ],
      "metadata": {
        "id": "CGbAw7nGi53M"
      },
      "execution_count": null,
      "outputs": []
    },
    {
      "cell_type": "code",
      "source": [
        "dane$ICD.10 <- as.integer(dane$ICD.10)\n",
        "dict_icd10_cleaned$ICD.10 <- as.integer(dict_icd10_cleaned$ICD.10)"
      ],
      "metadata": {
        "id": "DS1lrA-Ai5zs"
      },
      "execution_count": null,
      "outputs": []
    },
    {
      "cell_type": "code",
      "source": [
        "intersect(unique(dane$ICD.10), unique(dict_icd10_cleaned$ICD.10))"
      ],
      "metadata": {
        "id": "V_I9T5C1i5wM"
      },
      "execution_count": null,
      "outputs": []
    },
    {
      "cell_type": "code",
      "source": [
        "dane_merged <- merge(dane, dict_icd10_cleaned, by.x = \"ICD.10\", by.y = \"ICD.10\")\n",
        "\n",
        "dane_merged"
      ],
      "metadata": {
        "id": "mzi-FZd0i5s2"
      },
      "execution_count": null,
      "outputs": []
    },
    {
      "cell_type": "code",
      "source": [
        "choroby_count <- dane_merged %>%\n",
        "  group_by(NAZWA) %>%\n",
        "  summarise(Liczba_wystapien = n()) %>%\n",
        "  arrange(desc(Liczba_wystapien))\n",
        "\n",
        "# Wyświetlenie tabeli z najczęstszymi chorobami\n",
        "print(choroby_count)"
      ],
      "metadata": {
        "colab": {
          "base_uri": "https://localhost:8080/"
        },
        "id": "uQzSsBfVi5pW",
        "outputId": "6b8d4c2d-7068-4cd9-e650-18cd4d52ef14"
      },
      "execution_count": null,
      "outputs": [
        {
          "output_type": "stream",
          "name": "stdout",
          "text": [
            "\u001b[90m# A tibble: 7 × 2\u001b[39m\n",
            "  NAZWA       Liczba_wystapien\n",
            "  \u001b[3m\u001b[90m<chr>\u001b[39m\u001b[23m                  \u001b[3m\u001b[90m<int>\u001b[39m\u001b[23m\n",
            "\u001b[90m1\u001b[39m \u001b[90m\"\u001b[39mchorb\u001b[90m\"\u001b[39m                    3\n",
            "\u001b[90m2\u001b[39m \u001b[90m\"\u001b[39mkatar\u001b[90m\"\u001b[39m                    3\n",
            "\u001b[90m3\u001b[39m \u001b[90m\"\u001b[39mrak\u001b[90m\"\u001b[39m                      3\n",
            "\u001b[90m4\u001b[39m \u001b[90m\"\u001b[39mchoroba x\u001b[90m\"\u001b[39m                1\n",
            "\u001b[90m5\u001b[39m \u001b[90m\"\u001b[39mjaskra\u001b[90m\"\u001b[39m                   1\n",
            "\u001b[90m6\u001b[39m \u001b[90m\"\u001b[39mkamien\u001b[90m\"\u001b[39m                   1\n",
            "\u001b[90m7\u001b[39m \u001b[90m\"\u001b[39mkaszel \u001b[90m\"\u001b[39m                  1\n"
          ]
        }
      ]
    },
    {
      "cell_type": "code",
      "source": [
        "install.packages(\"kableExtra\")"
      ],
      "metadata": {
        "colab": {
          "base_uri": "https://localhost:8080/"
        },
        "id": "k2prgUwFDSp4",
        "outputId": "a089a572-18d5-4eb3-ba41-4995b2dab9cb"
      },
      "execution_count": null,
      "outputs": [
        {
          "output_type": "stream",
          "name": "stderr",
          "text": [
            "Installing package into ‘/usr/local/lib/R/site-library’\n",
            "(as ‘lib’ is unspecified)\n",
            "\n",
            "also installing the dependency ‘svglite’\n",
            "\n",
            "\n"
          ]
        }
      ]
    },
    {
      "cell_type": "code",
      "source": [
        "choroby_count %>%\n",
        "  kable(caption = \" Przyczyny pierwszej wizyty pacjenta w Polsce - 2023 rok (tys.)\")"
      ],
      "metadata": {
        "colab": {
          "base_uri": "https://localhost:8080/",
          "height": 249
        },
        "id": "HviQwzmkDbsY",
        "outputId": "c7bb31b6-7aec-4976-c5ab-7a3dd50faec8"
      },
      "execution_count": null,
      "outputs": [
        {
          "output_type": "display_data",
          "data": {
            "text/plain": [
              "\n",
              "\n",
              "Table:  Najczęstsze choroby\n",
              "\n",
              "|NAZWA     | Liczba_wystapien|\n",
              "|:---------|----------------:|\n",
              "|chorb     |                3|\n",
              "|katar     |                3|\n",
              "|rak       |                3|\n",
              "|choroba x |                1|\n",
              "|jaskra    |                1|\n",
              "|kamien    |                1|\n",
              "|kaszel    |                1|"
            ]
          },
          "metadata": {}
        }
      ]
    },
    {
      "cell_type": "code",
      "source": [
        "library(kableExtra)"
      ],
      "metadata": {
        "id": "mv0qnzhYFZtX",
        "outputId": "8c462f8a-93e4-44f7-8c87-5a959866ccb2",
        "colab": {
          "base_uri": "https://localhost:8080/"
        }
      },
      "execution_count": null,
      "outputs": [
        {
          "output_type": "stream",
          "name": "stderr",
          "text": [
            "\n",
            "Attaching package: ‘kableExtra’\n",
            "\n",
            "\n",
            "The following object is masked from ‘package:dplyr’:\n",
            "\n",
            "    group_rows\n",
            "\n",
            "\n"
          ]
        }
      ]
    },
    {
      "cell_type": "code",
      "source": [
        "choroby_count %>%\n",
        "  kable(caption = \"Tabela: Przyczyny pierwszej wizyty pacjenta w Polsce - 2023 rok(tys.)\") %>%\n",
        "  kable_styling(bootstrap_options = c(\"striped\", \"hover\", \"condensed\"),\n",
        "                full_width = F,\n",
        "                position = \"center\")\n",
        "  footnote(general = \"Źródło: Na podstawie danych Ministerstwa\",\n",
        "                general_title = \"\")\n"
      ],
      "metadata": {
        "colab": {
          "base_uri": "https://localhost:8080/",
          "height": 731
        },
        "id": "MH_Zpc0SFM4M",
        "outputId": "fcddd269-a6c2-4bf3-8693-7f579d07f2ca"
      },
      "execution_count": null,
      "outputs": [
        {
          "output_type": "display_data",
          "data": {
            "text/plain": [
              "<table class=\"table table-striped table-hover table-condensed\" style=\"width: auto !important; \">\n",
              "<caption>Tabela: Najczęstsze choroby</caption>\n",
              " <thead>\n",
              "  <tr>\n",
              "   <th style=\"text-align:left;\"> NAZWA </th>\n",
              "   <th style=\"text-align:right;\"> Liczba_wystapien </th>\n",
              "  </tr>\n",
              " </thead>\n",
              "<tbody>\n",
              "  <tr>\n",
              "   <td style=\"text-align:left;\"> chorb </td>\n",
              "   <td style=\"text-align:right;\"> 3 </td>\n",
              "  </tr>\n",
              "  <tr>\n",
              "   <td style=\"text-align:left;\"> katar </td>\n",
              "   <td style=\"text-align:right;\"> 3 </td>\n",
              "  </tr>\n",
              "  <tr>\n",
              "   <td style=\"text-align:left;\"> rak </td>\n",
              "   <td style=\"text-align:right;\"> 3 </td>\n",
              "  </tr>\n",
              "  <tr>\n",
              "   <td style=\"text-align:left;\"> choroba x </td>\n",
              "   <td style=\"text-align:right;\"> 1 </td>\n",
              "  </tr>\n",
              "  <tr>\n",
              "   <td style=\"text-align:left;\"> jaskra </td>\n",
              "   <td style=\"text-align:right;\"> 1 </td>\n",
              "  </tr>\n",
              "  <tr>\n",
              "   <td style=\"text-align:left;\"> kamien </td>\n",
              "   <td style=\"text-align:right;\"> 1 </td>\n",
              "  </tr>\n",
              "  <tr>\n",
              "   <td style=\"text-align:left;\"> kaszel </td>\n",
              "   <td style=\"text-align:right;\"> 1 </td>\n",
              "  </tr>\n",
              "</tbody>\n",
              "</table>"
            ]
          },
          "metadata": {}
        }
      ]
    },
    {
      "cell_type": "code",
      "source": [
        "ggplot(choroby_count, aes(x = reorder(NAZWA, -Liczba_wystapien), y = Liczba_wystapien)) +\n",
        "  geom_bar(stat = \"identity\", fill = \"blue\") +  # Ustawienie koloru słupków\n",
        "  labs(title = \"Przyczyny pierwszej wizyty pacjenta w Polsce - 2023 rok\", x = \"Nazwa rozpoznania\", y = \"Liczba wystąpień w tys.\",\n",
        "       caption = \"Źródło: Ministerstwo Zdrowia\") +  # Dodanie źródła jako podpis\n",
        "  theme(plot.title = element_text(hjust = 0.5, size = 16, face = \"bold\"),\n",
        "        axis.text.x = element_text(angle = 45, hjust = 1))"
      ],
      "metadata": {
        "colab": {
          "base_uri": "https://localhost:8080/",
          "height": 437
        },
        "id": "sgUOk-Zoi5l6",
        "outputId": "a5236026-9376-4a51-ac7f-8ca026952742"
      },
      "execution_count": null,
      "outputs": [
        {
          "output_type": "display_data",
          "data": {
            "text/plain": [
              "plot without title"
            ],
            "image/png": "[encoded data removed]"
          },
          "metadata": {
            "image/png": {
              "width": 420,
              "height": 420
            }
          }
        }
      ]
    },
    {
      "cell_type": "code",
      "source": [
        "system(\"apt-get install -y pandoc\")"
      ],
      "metadata": {
        "id": "N8MTrVY4i5iI"
      },
      "execution_count": null,
      "outputs": []
    },
    {
      "cell_type": "code",
      "source": [
        "rmarkdown::render(\"raport.Rmd\")"
      ],
      "metadata": {
        "colab": {
          "base_uri": "https://localhost:8080/"
        },
        "id": "OCDw-hwei5d7",
        "outputId": "39f0d92d-fb48-4447-db35-f606b296065b"
      },
      "execution_count": null,
      "outputs": [
        {
          "output_type": "stream",
          "name": "stderr",
          "text": [
            "\n",
            "\n",
            "processing file: raport.Rmd\n",
            "\n"
          ]
        },
        {
          "output_type": "stream",
          "name": "stdout",
          "text": [
            "1/2                  \n",
            "2/2 [unnamed-chunk-1]\n"
          ]
        },
        {
          "output_type": "stream",
          "name": "stderr",
          "text": [
            "output file: raport.knit.md\n",
            "\n",
            "\n"
          ]
        },
        {
          "output_type": "stream",
          "name": "stdout",
          "text": [
            "/usr/bin/pandoc +RTS -K512m -RTS raport.knit.md --to html4 --from markdown+autolink_bare_uris+tex_math_single_backslash --output raport.html --lua-filter /usr/local/lib/R/site-library/rmarkdown/rmarkdown/lua/pagebreak.lua --lua-filter /usr/local/lib/R/site-library/rmarkdown/rmarkdown/lua/latex-div.lua --self-contained --variable bs3=TRUE --section-divs --template /usr/local/lib/R/site-library/rmarkdown/rmd/h/default.html --no-highlight --variable highlightjs=1 --variable theme=bootstrap --mathjax --variable 'mathjax-url=https://mathjax.rstudio.com/latest/MathJax.js?config=TeX-AMS-MML_HTMLorMML' --include-in-header /tmp/RtmpNj4oes/rmarkdown-str191ab2c7e6.html \n"
          ]
        },
        {
          "output_type": "stream",
          "name": "stderr",
          "text": [
            "\n",
            "Output created: raport.html\n",
            "\n"
          ]
        }
      ]
    },
    {
      "cell_type": "code",
      "source": [],
      "metadata": {
        "id": "htbgS0Efi5Uf"
      },
      "execution_count": null,
      "outputs": []
    }
  ]
}